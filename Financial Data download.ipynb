{
 "cells": [
  {
   "cell_type": "code",
   "execution_count": 1,
   "id": "4ad99fee",
   "metadata": {},
   "outputs": [],
   "source": [
    "import pandas as pd\n",
    "from yahoofinancials import YahooFinancials\n",
    "import numpy as np\n",
    "import json"
   ]
  },
  {
   "cell_type": "markdown",
   "id": "1fac68db",
   "metadata": {},
   "source": [
    "## FAANG Companies"
   ]
  },
  {
   "cell_type": "code",
   "execution_count": 2,
   "id": "2661126b",
   "metadata": {},
   "outputs": [],
   "source": [
    "# Pull the yearly data from the JSON file and append to yearly list\n",
    "\n",
    "# Pass the json file, end of financial year date (JSON Key) and fields to keep \n",
    "def extract_financials(year_data, year, field_list):\n",
    "    temp_list = []\n",
    "    year_data['financialYear'] = year\n",
    "    \n",
    "    # Extract the requested fields\n",
    "    for field in field_list:\n",
    "        \n",
    "        # Empty Field catch\n",
    "        if field in year_data.keys():\n",
    "            temp_list.append(year_data[field])\n",
    "        else:\n",
    "            temp_list.append(0)\n",
    "    \n",
    "    # Return the field values for the year\n",
    "    return temp_list"
   ]
  },
  {
   "cell_type": "code",
   "execution_count": 3,
   "id": "ac1344ee",
   "metadata": {},
   "outputs": [],
   "source": [
    "companies = ['TSLA','MSFT','AAPL','AMZN','META']\n",
    "\n",
    "income_fields = ['financialYear','totalRevenue','costOfRevenue','researchAndDevelopment',\n",
    "                 'sellingGeneralAndAdministration','netInterestIncome','netIncomeCommonStockholders']\n",
    "\n",
    "balance_fields = ['financialYear','cashCashEquivalentsAndShortTermInvestments','accountsReceivable',\n",
    "                  'inventory','currentAssets','netPPE','totalNonCurrentAssets','totalAssets','accountsPayable',\n",
    "                 'totalLiabilitiesNetMinorityInterest','retainedEarnings','stockholdersEquity']"
   ]
  },
  {
   "cell_type": "code",
   "execution_count": 4,
   "id": "a0ee82d4",
   "metadata": {},
   "outputs": [
    {
     "name": "stdout",
     "output_type": "stream",
     "text": [
      "TSLA_income_statement.csv was created\n",
      "TSLA_balance_statement.csv was created\n",
      "MSFT_income_statement.csv was created\n",
      "MSFT_balance_statement.csv was created\n",
      "AAPL_income_statement.csv was created\n",
      "AAPL_balance_statement.csv was created\n",
      "AMZN_income_statement.csv was created\n",
      "AMZN_balance_statement.csv was created\n",
      "META_income_statement.csv was created\n",
      "META_balance_statement.csv was created\n"
     ]
    }
   ],
   "source": [
    "\n",
    "for company in companies:\n",
    "    # Create Yahoo Financial Object for information\n",
    "    yf_company = YahooFinancials(company)\n",
    "    # Create two empty lists to append yearly data\n",
    "    income_statement_list, balance_statement_list = [], []\n",
    "    \n",
    "    # Extract Income and then Balance Sheet financials\n",
    "    for statement_type in ['income','balance']:\n",
    "        # Extract all years financial statement information in JSON format\n",
    "        json_company_financials = yf_company.get_financial_stmts('annual',statement_type,reformat=False)\n",
    "        \n",
    "        # Get the specific End of Financial year dates\n",
    "        fin_year_list = list(json_company_financials[company].keys())\n",
    "        \n",
    "        # Iterate over the end of financial year dates to access the yearly information\n",
    "        for fin_year in fin_year_list:\n",
    "            \n",
    "            # Extract Income Statement information\n",
    "            if statement_type == 'income':\n",
    "                try:\n",
    "                    # Pass the relevant year section of JSON file, end of financial year date and fields to extract\n",
    "                    income_statement_list.append(extract_financials(json_company_financials[company][fin_year],\n",
    "                                            fin_year, income_fields))\n",
    "                except:\n",
    "                    print(f'{company} has no {statement_type} information for year {fin_year}')\n",
    "            \n",
    "            # Extract Balance Sheet information\n",
    "            elif statement_type == 'balance':\n",
    "                try:\n",
    "                    # Pass the relevant year section of JSON file, end of financial year date and fields to extract\n",
    "                    balance_statement_list.append(extract_financials(json_company_financials[company][fin_year],\n",
    "                                              fin_year, balance_fields))\n",
    "                except:\n",
    "                    # Error Handling, Incomplete information \n",
    "                    print(f'{company} has no {statement_type} information for {fin_year}')\n",
    "    \n",
    "\n",
    "        if statement_type == 'income':\n",
    "            fin_df = pd.DataFrame(income_statement_list, columns=income_fields)\n",
    "            file_name = company + '_income_statement.csv'\n",
    "        elif statement_type == 'balance':\n",
    "            fin_df = pd.DataFrame(balance_statement_list, columns=balance_fields)\n",
    "            file_name = company + '_balance_statement.csv'\n",
    "        \n",
    "        fin_df = fin_df.set_index('financialYear')\n",
    "        \n",
    "        fin_df.to_csv(file_name)\n",
    "        print(f'{file_name} was created')"
   ]
  },
  {
   "cell_type": "code",
   "execution_count": 5,
   "id": "2d2f7b5f",
   "metadata": {},
   "outputs": [],
   "source": [
    "# Collaborate the company information into one datafile\n",
    "companies = ['TSLA','MSFT','AAPL','AMZN','META']\n",
    "\n",
    "# Create Empty Dataframe to add company information to\n",
    "faang_financials_df = pd.DataFrame()\n",
    "\n",
    "for company in companies:\n",
    "    \n",
    "    # Read in the Income and Balance Sheet Information\n",
    "    income_df = pd.read_csv(company+'_income_statement.csv', index_col = 'financialYear')\n",
    "    balance_df = pd.read_csv(company+'_balance_statement.csv', index_col = 'financialYear')\n",
    "    \n",
    "    # Combine the two financial statements by Year\n",
    "    combined_financials_df = pd.merge(income_df, balance_df, on='financialYear')\n",
    "    \n",
    "    # Add Company Column and Index\n",
    "    combined_financials_df['Company'] = company\n",
    "    combined_financials_df = combined_financials_df.reset_index().set_index(['Company','financialYear'])\n",
    "    \n",
    "    # Add each company's financials to the new combined dataframe\n",
    "    if faang_financials_df.empty:\n",
    "        faang_financials_df = combined_financials_df\n",
    "    else:\n",
    "        faang_financials_df = pd.concat([faang_financials_df, combined_financials_df])\n",
    "\n",
    "faang_financials_df.to_csv('faang_financials.csv')"
   ]
  },
  {
   "cell_type": "code",
   "execution_count": 6,
   "id": "864303d8",
   "metadata": {},
   "outputs": [],
   "source": [
    "combined_financials_df = pd.read_csv('faang_financials.csv', index_col=['Company','financialYear'])\n",
    "\n",
    "# Convert all values $ to $Mil for readability\n",
    "combined_financials_df = combined_financials_df/1000000\n",
    "\n",
    "    # Change column names\n",
    "columns = ['Revenue($m)','Cost_of_Goods_Sold($m)','R&D($m)','Operating_Costs($m)',\n",
    "           'Net_Interest($m)','Net_Profit($m)','Cash_holdings($m)','Accounts_Receivable($m)',\n",
    "           'Inventory($m)','Current Assets($m)','PPE($m)','Non-Current_Assets($m)',\n",
    "           'Total_Assets($m)','Accounts_Payable($m)','Total_Liabilities($m)',\n",
    "           'Retained_Earnings($m)','Equity($m)']\n",
    "\n",
    "combined_financials_df.columns = columns\n",
    "\n",
    "# Calculate Additional Fields\n",
    "combined_financials_df['Gross_Profit($m)'] = combined_financials_df['Revenue($m)'] - combined_financials_df['Cost_of_Goods_Sold($m)']\n",
    "combined_financials_df['Operating_Profit($m)'] = combined_financials_df['Gross_Profit($m)'] - combined_financials_df['Operating_Costs($m)']\n",
    "    \n",
    "# Calculate Financial Ratios\n",
    "combined_financials_df['Gross_Profit_Ratio'] = round(combined_financials_df['Gross_Profit($m)'] / combined_financials_df['Revenue($m)'],4)\n",
    "\n",
    "combined_financials_df['Net_Profit_Ratio'] = round(combined_financials_df['Net_Profit($m)'] / combined_financials_df['Revenue($m)'],4)\n",
    "\n",
    "combined_financials_df['Operating_Profit_Ratio'] = round(combined_financials_df['Operating_Profit($m)'] / combined_financials_df['Revenue($m)'],4)\n",
    "\n",
    "combined_financials_df['R&D:Revenue_ratio'] = round(combined_financials_df['R&D($m)'] / combined_financials_df['Revenue($m)'],4)\n",
    "\n",
    "combined_financials_df['Current_Ratio%'] = (combined_financials_df['Cash_holdings($m)'] + combined_financials_df['Accounts_Receivable($m)'] +\\\n",
    "                                    combined_financials_df['Inventory($m)']) / combined_financials_df['Accounts_Payable($m)']\n",
    "\n",
    "combined_financials_df['Quick_Ratio%'] = combined_financials_df['Cash_holdings($m)'] / combined_financials_df['Accounts_Payable($m)']\n",
    "\n",
    "combined_financials_df['Debt_to_Equity_Ratio%'] = combined_financials_df['Total_Liabilities($m)'] / combined_financials_df['Equity($m)']\n",
    "\n",
    "combined_financials_df['Return_On_Equity_Ratio%'] = combined_financials_df['Net_Profit($m)'] / combined_financials_df['Equity($m)']\n",
    "\n",
    "combined_financials_df['Return_On_Assets_Ratio%'] = combined_financials_df['Operating_Profit($m)'] / combined_financials_df['Total_Assets($m)']\n",
    "\n",
    "combined_financials_df.to_csv('faang_financials_clean.csv')"
   ]
  },
  {
   "cell_type": "code",
   "execution_count": null,
   "id": "d65d6886",
   "metadata": {},
   "outputs": [],
   "source": []
  },
  {
   "cell_type": "code",
   "execution_count": null,
   "id": "78eb4dea",
   "metadata": {},
   "outputs": [],
   "source": [
    "   "
   ]
  },
  {
   "cell_type": "code",
   "execution_count": null,
   "id": "2cc195a3",
   "metadata": {},
   "outputs": [],
   "source": []
  },
  {
   "cell_type": "markdown",
   "id": "b2c2a3fc",
   "metadata": {},
   "source": [
    "## ASX Companies"
   ]
  },
  {
   "cell_type": "code",
   "execution_count": 7,
   "id": "cec43830",
   "metadata": {},
   "outputs": [],
   "source": [
    "asx_companies = ['CBA.AX','WPC.AX','ANZ.AX','NAB.AX','MQG.AX']"
   ]
  }
 ],
 "metadata": {
  "kernelspec": {
   "display_name": "finance3.9",
   "language": "python",
   "name": "finance3.9"
  },
  "language_info": {
   "codemirror_mode": {
    "name": "ipython",
    "version": 3
   },
   "file_extension": ".py",
   "mimetype": "text/x-python",
   "name": "python",
   "nbconvert_exporter": "python",
   "pygments_lexer": "ipython3",
   "version": "3.9.5"
  }
 },
 "nbformat": 4,
 "nbformat_minor": 5
}
